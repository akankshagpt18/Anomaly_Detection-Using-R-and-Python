{
 "cells": [
  {
   "cell_type": "code",
   "execution_count": 1,
   "metadata": {
    "collapsed": true
   },
   "outputs": [],
   "source": [
    "import sqlite3\n",
    "import csv\n",
    "import os\n",
    "import pandas as pd\n",
    "    "
   ]
  },
  {
   "cell_type": "code",
   "execution_count": 2,
   "metadata": {},
   "outputs": [
    {
     "name": "stdout",
     "output_type": "stream",
     "text": [
      "/Users/Asad/Desktop/Personal/Codes/sqlite_data/\n",
      "TORGI-GNSS-20181003 030654.gpkg\n",
      "Control-1.csv\n",
      "TORGI-GNSS-20181003 030443.gpkg\n",
      "Control-2.csv\n",
      "TORGI-GNSS-20181003 022936.gpkg\n",
      "Control-3.csv\n",
      "Control-3.csv\n",
      "TORGI-GNSS-20181003 032234.gpkg\n",
      "Control-5.csv\n",
      "TORGI-GNSS-20181003 030445.gpkg\n",
      "Control-6.csv\n",
      "TORGI-GNSS-20181003 030429.gpkg\n",
      "Control-7.csv\n",
      "TORGI-GNSS-20181003 032249.gpkg\n",
      "Control-8.csv\n",
      "TORGI-GNSS-20181003 030537.gpkg\n",
      "Control-9.csv\n",
      "TORGI-GNSS-20181003 024131.gpkg\n",
      "Control-10.csv\n",
      "TORGI-GNSS-20181002 181654.gpkg\n",
      "Control-11.csv\n",
      "TORGI-GNSS-20181003 024049.gpkg\n",
      "Control-12.csv\n",
      "TORGI-GNSS-20181003 030600.gpkg\n",
      "Control-13.csv\n",
      "combined_csv.csv\n",
      "masterfile.csv\n",
      "<class 'OSError'>\n",
      "allOutput.csv\n"
     ]
    }
   ],
   "source": [
    "def individual_output():\n",
    "    con = sqlite3.connect(\":memory:\")\n",
    "    import_path = '/Users/Asad/Desktop/Personal/Codes/sqlite_data/'  ###Import Directory Path\n",
    "    descrip = 'Control-'  ### FileId Category Identifier\n",
    "    print(import_path)\n",
    "    x = 0    ####FileId starting number\n",
    "\n",
    "    for filename in os.listdir(import_path):\n",
    "        try:\n",
    "            x = x + 1\n",
    "            fileId = descrip + str(x)\n",
    "\n",
    "            if filename.endswith(\".gpkg\"):\n",
    "                con = sqlite3.connect(\":memory:\")\n",
    "                print(filename)\n",
    "                sqlite_file = import_path + filename\n",
    "                conn = sqlite3.connect(sqlite_file)\n",
    "                cur = conn.cursor()\n",
    "                data = cur.execute(\"SELECT id,svid,constellation,cn0,agc,azimuth_deg,elevation_deg FROM sat_Data;\")  ### SQL selection statement\n",
    "\n",
    "                export_csv = descrip + str(x) + '.csv'  ###fileId CSV Name\n",
    "\n",
    "                with open(export_csv, 'w') as csvf:\n",
    "                    writer = csv.writer(csvf)\n",
    "                    writer.writerow(\n",
    "                        ['id', 'svid', 'constellation', 'cn0', 'agc', 'azimuth_deg', 'elevation_deg',\"fileName\", \"CONUS\", \"fileId\" ])     ### Creats header row for CSV file\n",
    "                    writer.writerows(data)\n",
    "                    conn.close()\n",
    "\n",
    "            output_df = pd.read_csv(export_csv)\n",
    "            ### Fills in Columns with Static data  to Columns added that were provided via the SQL statement\n",
    "            output_df['CONUS'] = '0'  ### Working to add automatic detection for future use\n",
    "            output_df['fileId'] = fileId\n",
    "            output_df['fileName'] = filename\n",
    "\n",
    "            output_df.to_csv(export_csv)\n",
    "            print(export_csv)\n",
    "\n",
    "        except sqlite3.Error:\n",
    "            print(filename + \" is empty\")\n",
    "\n",
    "\n",
    "def combine():\n",
    "    # Creates combined file CSV and assigns headers for columns\n",
    "    allOutput = \"allOutput.csv\"\n",
    "    with open(allOutput, 'w') as csvfile:\n",
    "        fileWriter = csv.writer(csvfile)\n",
    "        fileWriter.writerow(\n",
    "            ['id', 'svid', 'constellation', 'cn0', 'agc', 'azimuth_deg', 'elevation_deg', \"fileName\", \"CONUS\",\n",
    "             \"fileId\"])\n",
    "\n",
    "    csv_path = '/Users/Asad/Desktop/Personal/Codes/'\n",
    "    original = pd.read_csv('/Users/Asad/Desktop/Personal/Codes/allOutput.csv')\n",
    "    for f in os.listdir(csv_path):\n",
    "\n",
    "        if f.endswith(\".csv\"):\n",
    "            print(f)\n",
    "            try:\n",
    "                pd.set_option('display.max_columns', None)\n",
    "\n",
    "                original2 = pd.read_csv(f)\n",
    "                original = original.append(original2, ignore_index=True)\n",
    "\n",
    "            except IOError:\n",
    "                print(IOError)\n",
    "\n",
    "    # combined_csv = pd.concat([original, original2], sort=True)\n",
    "    original.to_csv(\"/Users/Asad/Desktop/Personal/Codes/combined_csv.csv\", index=False)\n",
    "    # print('Combined', original)\n",
    "\n",
    "\n",
    "def main():\n",
    "    individual_output()\n",
    "\n",
    "    combine()\n",
    "\n",
    "\n",
    "main()"
   ]
  },
  {
   "cell_type": "code",
   "execution_count": 3,
   "metadata": {},
   "outputs": [
    {
     "data": {
      "text/html": [
       "<div>\n",
       "<style>\n",
       "    .dataframe thead tr:only-child th {\n",
       "        text-align: right;\n",
       "    }\n",
       "\n",
       "    .dataframe thead th {\n",
       "        text-align: left;\n",
       "    }\n",
       "\n",
       "    .dataframe tbody tr th {\n",
       "        vertical-align: top;\n",
       "    }\n",
       "</style>\n",
       "<table border=\"1\" class=\"dataframe\">\n",
       "  <thead>\n",
       "    <tr style=\"text-align: right;\">\n",
       "      <th></th>\n",
       "      <th>CONUS</th>\n",
       "      <th>agc</th>\n",
       "      <th>azimuth_deg</th>\n",
       "      <th>cn0</th>\n",
       "      <th>constellation</th>\n",
       "      <th>elevation_deg</th>\n",
       "      <th>fileID</th>\n",
       "      <th>fileId</th>\n",
       "      <th>fileName</th>\n",
       "      <th>id</th>\n",
       "      <th>svid</th>\n",
       "    </tr>\n",
       "  </thead>\n",
       "  <tbody>\n",
       "    <tr>\n",
       "      <th>0</th>\n",
       "      <td>0</td>\n",
       "      <td>0.0</td>\n",
       "      <td>277.0</td>\n",
       "      <td>42.5</td>\n",
       "      <td>Glonass</td>\n",
       "      <td>12.0</td>\n",
       "      <td>Control-11</td>\n",
       "      <td>NaN</td>\n",
       "      <td>TORGI-GNSS-20180912 094130.gpkg</td>\n",
       "      <td>1.0</td>\n",
       "      <td>11.0</td>\n",
       "    </tr>\n",
       "    <tr>\n",
       "      <th>1</th>\n",
       "      <td>0</td>\n",
       "      <td>0.0</td>\n",
       "      <td>337.0</td>\n",
       "      <td>34.6</td>\n",
       "      <td>Glonass</td>\n",
       "      <td>35.0</td>\n",
       "      <td>Control-11</td>\n",
       "      <td>NaN</td>\n",
       "      <td>TORGI-GNSS-20180912 094130.gpkg</td>\n",
       "      <td>2.0</td>\n",
       "      <td>21.0</td>\n",
       "    </tr>\n",
       "    <tr>\n",
       "      <th>2</th>\n",
       "      <td>0</td>\n",
       "      <td>0.0</td>\n",
       "      <td>293.0</td>\n",
       "      <td>34.2</td>\n",
       "      <td>GPS</td>\n",
       "      <td>34.0</td>\n",
       "      <td>Control-11</td>\n",
       "      <td>NaN</td>\n",
       "      <td>TORGI-GNSS-20180912 094130.gpkg</td>\n",
       "      <td>3.0</td>\n",
       "      <td>16.0</td>\n",
       "    </tr>\n",
       "    <tr>\n",
       "      <th>3</th>\n",
       "      <td>0</td>\n",
       "      <td>0.0</td>\n",
       "      <td>255.0</td>\n",
       "      <td>28.9</td>\n",
       "      <td>GPS</td>\n",
       "      <td>75.0</td>\n",
       "      <td>Control-11</td>\n",
       "      <td>NaN</td>\n",
       "      <td>TORGI-GNSS-20180912 094130.gpkg</td>\n",
       "      <td>4.0</td>\n",
       "      <td>20.0</td>\n",
       "    </tr>\n",
       "    <tr>\n",
       "      <th>4</th>\n",
       "      <td>0</td>\n",
       "      <td>0.0</td>\n",
       "      <td>5.0</td>\n",
       "      <td>29.7</td>\n",
       "      <td>GPS</td>\n",
       "      <td>57.0</td>\n",
       "      <td>Control-11</td>\n",
       "      <td>NaN</td>\n",
       "      <td>TORGI-GNSS-20180912 094130.gpkg</td>\n",
       "      <td>5.0</td>\n",
       "      <td>21.0</td>\n",
       "    </tr>\n",
       "  </tbody>\n",
       "</table>\n",
       "</div>"
      ],
      "text/plain": [
       "   CONUS  agc  azimuth_deg   cn0 constellation  elevation_deg      fileID  \\\n",
       "0      0  0.0        277.0  42.5       Glonass           12.0  Control-11   \n",
       "1      0  0.0        337.0  34.6       Glonass           35.0  Control-11   \n",
       "2      0  0.0        293.0  34.2           GPS           34.0  Control-11   \n",
       "3      0  0.0        255.0  28.9           GPS           75.0  Control-11   \n",
       "4      0  0.0          5.0  29.7           GPS           57.0  Control-11   \n",
       "\n",
       "   fileId                         fileName   id  svid  \n",
       "0     NaN  TORGI-GNSS-20180912 094130.gpkg  1.0  11.0  \n",
       "1     NaN  TORGI-GNSS-20180912 094130.gpkg  2.0  21.0  \n",
       "2     NaN  TORGI-GNSS-20180912 094130.gpkg  3.0  16.0  \n",
       "3     NaN  TORGI-GNSS-20180912 094130.gpkg  4.0  20.0  \n",
       "4     NaN  TORGI-GNSS-20180912 094130.gpkg  5.0  21.0  "
      ]
     },
     "execution_count": 3,
     "metadata": {},
     "output_type": "execute_result"
    }
   ],
   "source": [
    "dataset = pd.read_csv(\"/Users/Asad/Desktop/Personal/Codes/combined_csv.csv\")\n",
    "dataset.head()"
   ]
  },
  {
   "cell_type": "code",
   "execution_count": 4,
   "metadata": {},
   "outputs": [
    {
     "data": {
      "text/html": [
       "<div>\n",
       "<style>\n",
       "    .dataframe thead tr:only-child th {\n",
       "        text-align: right;\n",
       "    }\n",
       "\n",
       "    .dataframe thead th {\n",
       "        text-align: left;\n",
       "    }\n",
       "\n",
       "    .dataframe tbody tr th {\n",
       "        vertical-align: top;\n",
       "    }\n",
       "</style>\n",
       "<table border=\"1\" class=\"dataframe\">\n",
       "  <thead>\n",
       "    <tr style=\"text-align: right;\">\n",
       "      <th></th>\n",
       "      <th>CONUS</th>\n",
       "      <th>agc</th>\n",
       "      <th>azimuth_deg</th>\n",
       "      <th>cn0</th>\n",
       "      <th>elevation_deg</th>\n",
       "      <th>fileId</th>\n",
       "      <th>id</th>\n",
       "      <th>svid</th>\n",
       "    </tr>\n",
       "  </thead>\n",
       "  <tbody>\n",
       "    <tr>\n",
       "      <th>count</th>\n",
       "      <td>1381990.0</td>\n",
       "      <td>1.381988e+06</td>\n",
       "      <td>1.381988e+06</td>\n",
       "      <td>1.381988e+06</td>\n",
       "      <td>1.381988e+06</td>\n",
       "      <td>0.0</td>\n",
       "      <td>1.381988e+06</td>\n",
       "      <td>1.381988e+06</td>\n",
       "    </tr>\n",
       "    <tr>\n",
       "      <th>mean</th>\n",
       "      <td>0.0</td>\n",
       "      <td>6.070485e-02</td>\n",
       "      <td>1.771866e+02</td>\n",
       "      <td>3.036950e+01</td>\n",
       "      <td>3.425130e+01</td>\n",
       "      <td>NaN</td>\n",
       "      <td>1.019888e+04</td>\n",
       "      <td>1.555969e+01</td>\n",
       "    </tr>\n",
       "    <tr>\n",
       "      <th>std</th>\n",
       "      <td>0.0</td>\n",
       "      <td>1.977429e+00</td>\n",
       "      <td>1.093348e+02</td>\n",
       "      <td>6.594226e+00</td>\n",
       "      <td>2.018971e+01</td>\n",
       "      <td>NaN</td>\n",
       "      <td>9.490639e+03</td>\n",
       "      <td>8.764418e+00</td>\n",
       "    </tr>\n",
       "    <tr>\n",
       "      <th>min</th>\n",
       "      <td>0.0</td>\n",
       "      <td>-1.955000e+01</td>\n",
       "      <td>0.000000e+00</td>\n",
       "      <td>5.000000e+00</td>\n",
       "      <td>0.000000e+00</td>\n",
       "      <td>NaN</td>\n",
       "      <td>1.000000e+00</td>\n",
       "      <td>1.000000e+00</td>\n",
       "    </tr>\n",
       "    <tr>\n",
       "      <th>25%</th>\n",
       "      <td>0.0</td>\n",
       "      <td>-9.900000e-01</td>\n",
       "      <td>7.400000e+01</td>\n",
       "      <td>2.600000e+01</td>\n",
       "      <td>1.900000e+01</td>\n",
       "      <td>NaN</td>\n",
       "      <td>3.209000e+03</td>\n",
       "      <td>9.000000e+00</td>\n",
       "    </tr>\n",
       "    <tr>\n",
       "      <th>50%</th>\n",
       "      <td>0.0</td>\n",
       "      <td>1.200000e-01</td>\n",
       "      <td>1.850000e+02</td>\n",
       "      <td>3.040000e+01</td>\n",
       "      <td>3.200000e+01</td>\n",
       "      <td>NaN</td>\n",
       "      <td>7.304000e+03</td>\n",
       "      <td>1.600000e+01</td>\n",
       "    </tr>\n",
       "    <tr>\n",
       "      <th>75%</th>\n",
       "      <td>0.0</td>\n",
       "      <td>4.700000e-01</td>\n",
       "      <td>2.840000e+02</td>\n",
       "      <td>3.520000e+01</td>\n",
       "      <td>4.900000e+01</td>\n",
       "      <td>NaN</td>\n",
       "      <td>1.366300e+04</td>\n",
       "      <td>2.200000e+01</td>\n",
       "    </tr>\n",
       "    <tr>\n",
       "      <th>max</th>\n",
       "      <td>0.0</td>\n",
       "      <td>1.275000e+01</td>\n",
       "      <td>3.580000e+02</td>\n",
       "      <td>5.120000e+01</td>\n",
       "      <td>8.700000e+01</td>\n",
       "      <td>NaN</td>\n",
       "      <td>4.125900e+04</td>\n",
       "      <td>1.010000e+02</td>\n",
       "    </tr>\n",
       "  </tbody>\n",
       "</table>\n",
       "</div>"
      ],
      "text/plain": [
       "           CONUS           agc   azimuth_deg           cn0  elevation_deg  \\\n",
       "count  1381990.0  1.381988e+06  1.381988e+06  1.381988e+06   1.381988e+06   \n",
       "mean         0.0  6.070485e-02  1.771866e+02  3.036950e+01   3.425130e+01   \n",
       "std          0.0  1.977429e+00  1.093348e+02  6.594226e+00   2.018971e+01   \n",
       "min          0.0 -1.955000e+01  0.000000e+00  5.000000e+00   0.000000e+00   \n",
       "25%          0.0 -9.900000e-01  7.400000e+01  2.600000e+01   1.900000e+01   \n",
       "50%          0.0  1.200000e-01  1.850000e+02  3.040000e+01   3.200000e+01   \n",
       "75%          0.0  4.700000e-01  2.840000e+02  3.520000e+01   4.900000e+01   \n",
       "max          0.0  1.275000e+01  3.580000e+02  5.120000e+01   8.700000e+01   \n",
       "\n",
       "       fileId            id          svid  \n",
       "count     0.0  1.381988e+06  1.381988e+06  \n",
       "mean      NaN  1.019888e+04  1.555969e+01  \n",
       "std       NaN  9.490639e+03  8.764418e+00  \n",
       "min       NaN  1.000000e+00  1.000000e+00  \n",
       "25%       NaN  3.209000e+03  9.000000e+00  \n",
       "50%       NaN  7.304000e+03  1.600000e+01  \n",
       "75%       NaN  1.366300e+04  2.200000e+01  \n",
       "max       NaN  4.125900e+04  1.010000e+02  "
      ]
     },
     "execution_count": 4,
     "metadata": {},
     "output_type": "execute_result"
    }
   ],
   "source": [
    "dataset.describe()"
   ]
  },
  {
   "cell_type": "code",
   "execution_count": 5,
   "metadata": {
    "collapsed": true
   },
   "outputs": [],
   "source": [
    "import numpy as np\n",
    "import matplotlib.pyplot as plt\n",
    "import seaborn as sns\n",
    "%matplotlib inline"
   ]
  },
  {
   "cell_type": "code",
   "execution_count": 6,
   "metadata": {},
   "outputs": [
    {
     "data": {
      "text/html": [
       "<div>\n",
       "<style>\n",
       "    .dataframe thead tr:only-child th {\n",
       "        text-align: right;\n",
       "    }\n",
       "\n",
       "    .dataframe thead th {\n",
       "        text-align: left;\n",
       "    }\n",
       "\n",
       "    .dataframe tbody tr th {\n",
       "        vertical-align: top;\n",
       "    }\n",
       "</style>\n",
       "<table border=\"1\" class=\"dataframe\">\n",
       "  <thead>\n",
       "    <tr style=\"text-align: right;\">\n",
       "      <th></th>\n",
       "      <th>CONUS</th>\n",
       "      <th>agc</th>\n",
       "      <th>azimuth_deg</th>\n",
       "      <th>cn0</th>\n",
       "      <th>elevation_deg</th>\n",
       "      <th>fileId</th>\n",
       "      <th>id</th>\n",
       "      <th>svid</th>\n",
       "    </tr>\n",
       "  </thead>\n",
       "  <tbody>\n",
       "    <tr>\n",
       "      <th>0</th>\n",
       "      <td>0</td>\n",
       "      <td>0.0</td>\n",
       "      <td>277.0</td>\n",
       "      <td>42.5</td>\n",
       "      <td>12.0</td>\n",
       "      <td>NaN</td>\n",
       "      <td>1.0</td>\n",
       "      <td>11.0</td>\n",
       "    </tr>\n",
       "    <tr>\n",
       "      <th>1</th>\n",
       "      <td>0</td>\n",
       "      <td>0.0</td>\n",
       "      <td>337.0</td>\n",
       "      <td>34.6</td>\n",
       "      <td>35.0</td>\n",
       "      <td>NaN</td>\n",
       "      <td>2.0</td>\n",
       "      <td>21.0</td>\n",
       "    </tr>\n",
       "    <tr>\n",
       "      <th>2</th>\n",
       "      <td>0</td>\n",
       "      <td>0.0</td>\n",
       "      <td>293.0</td>\n",
       "      <td>34.2</td>\n",
       "      <td>34.0</td>\n",
       "      <td>NaN</td>\n",
       "      <td>3.0</td>\n",
       "      <td>16.0</td>\n",
       "    </tr>\n",
       "    <tr>\n",
       "      <th>3</th>\n",
       "      <td>0</td>\n",
       "      <td>0.0</td>\n",
       "      <td>255.0</td>\n",
       "      <td>28.9</td>\n",
       "      <td>75.0</td>\n",
       "      <td>NaN</td>\n",
       "      <td>4.0</td>\n",
       "      <td>20.0</td>\n",
       "    </tr>\n",
       "    <tr>\n",
       "      <th>4</th>\n",
       "      <td>0</td>\n",
       "      <td>0.0</td>\n",
       "      <td>5.0</td>\n",
       "      <td>29.7</td>\n",
       "      <td>57.0</td>\n",
       "      <td>NaN</td>\n",
       "      <td>5.0</td>\n",
       "      <td>21.0</td>\n",
       "    </tr>\n",
       "  </tbody>\n",
       "</table>\n",
       "</div>"
      ],
      "text/plain": [
       "   CONUS  agc  azimuth_deg   cn0  elevation_deg  fileId   id  svid\n",
       "0      0  0.0        277.0  42.5           12.0     NaN  1.0  11.0\n",
       "1      0  0.0        337.0  34.6           35.0     NaN  2.0  21.0\n",
       "2      0  0.0        293.0  34.2           34.0     NaN  3.0  16.0\n",
       "3      0  0.0        255.0  28.9           75.0     NaN  4.0  20.0\n",
       "4      0  0.0          5.0  29.7           57.0     NaN  5.0  21.0"
      ]
     },
     "execution_count": 6,
     "metadata": {},
     "output_type": "execute_result"
    }
   ],
   "source": [
    "# Including the Numeric Variables only\n",
    "df_num = dataset.select_dtypes(include = ['float64', 'int64'])\n",
    "df_num.head()"
   ]
  },
  {
   "cell_type": "code",
   "execution_count": 7,
   "metadata": {},
   "outputs": [
    {
     "data": {
      "image/png": "[encoded data removed]",
      "text/plain": [
       "<matplotlib.figure.Figure at 0x10ec096a0>"
      ]
     },
     "metadata": {},
     "output_type": "display_data"
    }
   ],
   "source": [
    "# Correlation matrix for numeric variable\n",
    "\n",
    "corr = df_num.corr() \n",
    "plt.figure(figsize=(8, 6))\n",
    "\n",
    "sns.heatmap(corr[(corr >= 0.0) | (corr <= -0.0)], \n",
    "            cmap='viridis', vmax=1.0, vmin=-1.0, linewidths=0.1,\n",
    "            annot=True, annot_kws={\"size\": 8}, square=True);"
   ]
  },
  {
   "cell_type": "code",
   "execution_count": 8,
   "metadata": {},
   "outputs": [
    {
     "data": {
      "text/plain": [
       "array([[<matplotlib.axes._subplots.AxesSubplot object at 0x11144d6a0>,\n",
       "        <matplotlib.axes._subplots.AxesSubplot object at 0x114a0ce80>,\n",
       "        <matplotlib.axes._subplots.AxesSubplot object at 0x1149a8438>],\n",
       "       [<matplotlib.axes._subplots.AxesSubplot object at 0x114ad5518>,\n",
       "        <matplotlib.axes._subplots.AxesSubplot object at 0x114b32cc0>,\n",
       "        <matplotlib.axes._subplots.AxesSubplot object at 0x114b32cf8>],\n",
       "       [<matplotlib.axes._subplots.AxesSubplot object at 0x114c0ff28>,\n",
       "        <matplotlib.axes._subplots.AxesSubplot object at 0x114c52898>,\n",
       "        <matplotlib.axes._subplots.AxesSubplot object at 0x114cde518>]],\n",
       "      dtype=object)"
      ]
     },
     "execution_count": 8,
     "metadata": {},
     "output_type": "execute_result"
    },
    {
     "data": {
      "image/png": "[encoded data removed]",
      "text/plain": [
       "<matplotlib.figure.Figure at 0x114910400>"
      ]
     },
     "metadata": {},
     "output_type": "display_data"
    }
   ],
   "source": [
    "df_num.hist(figsize=(8, 10), bins=50, xlabelsize=8, ylabelsize=8)"
   ]
  },
  {
   "cell_type": "code",
   "execution_count": 9,
   "metadata": {},
   "outputs": [
    {
     "data": {
      "text/plain": [
       "<matplotlib.axes._subplots.AxesSubplot at 0x11501e780>"
      ]
     },
     "execution_count": 9,
     "metadata": {},
     "output_type": "execute_result"
    },
    {
     "data": {
      "image/png": "[encoded data removed]",
      "text/plain": [
       "<matplotlib.figure.Figure at 0x1113ffac8>"
      ]
     },
     "metadata": {},
     "output_type": "display_data"
    }
   ],
   "source": [
    "sns.set(style=\"darkgrid\")\n",
    "sns.countplot(x = \"constellation\", data = dataset)"
   ]
  },
  {
   "cell_type": "code",
   "execution_count": 18,
   "metadata": {},
   "outputs": [
    {
     "data": {
      "text/plain": [
       "(array([0, 1, 2, 3]), <a list of 4 Text xticklabel objects>)"
      ]
     },
     "execution_count": 18,
     "metadata": {},
     "output_type": "execute_result"
    },
    {
     "data": {
      "image/png": "[encoded data removed]",
      "text/plain": [
       "<matplotlib.figure.Figure at 0x11871bf28>"
      ]
     },
     "metadata": {},
     "output_type": "display_data"
    }
   ],
   "source": [
    "plt.figure(figsize = (10, 6))\n",
    "ax = sns.boxplot(x='constellation', y='agc', data=dataset)\n",
    "plt.setp(ax.artists, alpha=.5, linewidth=2, edgecolor=\"k\")\n",
    "plt.xticks(rotation=45)"
   ]
  },
  {
   "cell_type": "code",
   "execution_count": 16,
   "metadata": {},
   "outputs": [
    {
     "data": {
      "text/plain": [
       "(array([0, 1, 2, 3]), <a list of 4 Text xticklabel objects>)"
      ]
     },
     "execution_count": 16,
     "metadata": {},
     "output_type": "execute_result"
    },
    {
     "data": {
      "image/png": "[encoded data removed]",
      "text/plain": [
       "<matplotlib.figure.Figure at 0x11ba05438>"
      ]
     },
     "metadata": {},
     "output_type": "display_data"
    }
   ],
   "source": [
    "plt.figure(figsize = (10, 6))\n",
    "ax = sns.boxplot(x='constellation', y='azimuth_deg', data=dataset)\n",
    "plt.setp(ax.artists, alpha=.5, linewidth=2, edgecolor=\"k\")\n",
    "plt.xticks(rotation=45)"
   ]
  },
  {
   "cell_type": "code",
   "execution_count": 19,
   "metadata": {},
   "outputs": [
    {
     "data": {
      "text/plain": [
       "(array([0, 1, 2, 3]), <a list of 4 Text xticklabel objects>)"
      ]
     },
     "execution_count": 19,
     "metadata": {},
     "output_type": "execute_result"
    },
    {
     "data": {
      "image/png": "[encoded data removed]",
      "text/plain": [
       "<matplotlib.figure.Figure at 0x11c402f98>"
      ]
     },
     "metadata": {},
     "output_type": "display_data"
    }
   ],
   "source": [
    "plt.figure(figsize = (10, 6))\n",
    "ax = sns.boxplot(x='constellation', y='cn0', data=dataset)\n",
    "plt.setp(ax.artists, alpha=.5, linewidth=2, edgecolor=\"k\")\n",
    "plt.xticks(rotation=45)"
   ]
  },
  {
   "cell_type": "code",
   "execution_count": 20,
   "metadata": {},
   "outputs": [
    {
     "data": {
      "text/plain": [
       "(array([0, 1, 2, 3]), <a list of 4 Text xticklabel objects>)"
      ]
     },
     "execution_count": 20,
     "metadata": {},
     "output_type": "execute_result"
    },
    {
     "data": {
      "image/png": "[encoded data removed]",
      "text/plain": [
       "<matplotlib.figure.Figure at 0x119cc7a58>"
      ]
     },
     "metadata": {},
     "output_type": "display_data"
    }
   ],
   "source": [
    "plt.figure(figsize = (10, 6))\n",
    "ax = sns.boxplot(x='constellation', y='elevation_deg', data=dataset)\n",
    "plt.setp(ax.artists, alpha=.5, linewidth=2, edgecolor=\"k\")\n",
    "plt.xticks(rotation=45)"
   ]
  },
  {
   "cell_type": "code",
   "execution_count": 21,
   "metadata": {},
   "outputs": [
    {
     "data": {
      "text/plain": [
       "(array([0, 1, 2, 3]), <a list of 4 Text xticklabel objects>)"
      ]
     },
     "execution_count": 21,
     "metadata": {},
     "output_type": "execute_result"
    },
    {
     "data": {
      "image/png": "[encoded data removed]",
      "text/plain": [
       "<matplotlib.figure.Figure at 0x119d44be0>"
      ]
     },
     "metadata": {},
     "output_type": "display_data"
    }
   ],
   "source": [
    "plt.figure(figsize = (10, 6))\n",
    "ax = sns.boxplot(x='constellation', y='svid', data=dataset)\n",
    "plt.setp(ax.artists, alpha=.5, linewidth=2, edgecolor=\"k\")\n",
    "plt.xticks(rotation=45)"
   ]
  },
  {
   "cell_type": "code",
   "execution_count": null,
   "metadata": {
    "collapsed": true
   },
   "outputs": [],
   "source": []
  }
 ],
 "metadata": {
  "kernelspec": {
   "display_name": "Python 3",
   "language": "python",
   "name": "python3"
  },
  "language_info": {
   "codemirror_mode": {
    "name": "ipython",
    "version": 3
   },
   "file_extension": ".py",
   "mimetype": "text/x-python",
   "name": "python",
   "nbconvert_exporter": "python",
   "pygments_lexer": "ipython3",
   "version": "3.6.6"
  }
 },
 "nbformat": 4,
 "nbformat_minor": 2
}
