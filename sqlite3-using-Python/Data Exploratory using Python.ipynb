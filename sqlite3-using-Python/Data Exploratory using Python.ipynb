{
 "cells": [
  {
   "cell_type": "code",
   "execution_count": 1,
   "metadata": {
    "collapsed": true
   },
   "outputs": [],
   "source": [
    "import pandas as pd\n",
    "dataset = pd.read_csv(\"//Users/Asad/masterfile.csv\")"
   ]
  },
  {
   "cell_type": "code",
   "execution_count": 11,
   "metadata": {},
   "outputs": [
    {
     "data": {
      "text/plain": [
       "(4185, 8)"
      ]
     },
     "execution_count": 11,
     "metadata": {},
     "output_type": "execute_result"
    }
   ],
   "source": [
    "dataset.shape"
   ]
  },
  {
   "cell_type": "code",
   "execution_count": 8,
   "metadata": {
    "collapsed": true
   },
   "outputs": [],
   "source": [
    "import numpy as np\n",
    "import matplotlib.pyplot as plt\n",
    "import seaborn as sns\n",
    "%matplotlib inline"
   ]
  },
  {
   "cell_type": "code",
   "execution_count": 9,
   "metadata": {},
   "outputs": [
    {
     "name": "stdout",
     "output_type": "stream",
     "text": [
      "<class 'pandas.core.frame.DataFrame'>\n",
      "RangeIndex: 4185 entries, 0 to 4184\n",
      "Data columns (total 8 columns):\n",
      "Unnamed: 0               4185 non-null int64\n",
      "Control-id               4185 non-null int64\n",
      "Control-svid             4185 non-null int64\n",
      "Control-cn0              4185 non-null float64\n",
      "Control-agc              4185 non-null float64\n",
      "Control-azimuth_deg      4185 non-null float64\n",
      "Control-elevation_deg    4185 non-null float64\n",
      "Control-constellation    4185 non-null object\n",
      "dtypes: float64(4), int64(3), object(1)\n",
      "memory usage: 261.6+ KB\n"
     ]
    }
   ],
   "source": [
    "dataset.info()"
   ]
  },
  {
   "cell_type": "code",
   "execution_count": 12,
   "metadata": {},
   "outputs": [
    {
     "data": {
      "text/html": [
       "<div>\n",
       "<style>\n",
       "    .dataframe thead tr:only-child th {\n",
       "        text-align: right;\n",
       "    }\n",
       "\n",
       "    .dataframe thead th {\n",
       "        text-align: left;\n",
       "    }\n",
       "\n",
       "    .dataframe tbody tr th {\n",
       "        vertical-align: top;\n",
       "    }\n",
       "</style>\n",
       "<table border=\"1\" class=\"dataframe\">\n",
       "  <thead>\n",
       "    <tr style=\"text-align: right;\">\n",
       "      <th></th>\n",
       "      <th>Unnamed: 0</th>\n",
       "      <th>Control-id</th>\n",
       "      <th>Control-svid</th>\n",
       "      <th>Control-cn0</th>\n",
       "      <th>Control-agc</th>\n",
       "      <th>Control-azimuth_deg</th>\n",
       "      <th>Control-elevation_deg</th>\n",
       "    </tr>\n",
       "  </thead>\n",
       "  <tbody>\n",
       "    <tr>\n",
       "      <th>count</th>\n",
       "      <td>4185.000000</td>\n",
       "      <td>4185.000000</td>\n",
       "      <td>4185.000000</td>\n",
       "      <td>4185.000000</td>\n",
       "      <td>4185.000000</td>\n",
       "      <td>4185.000000</td>\n",
       "      <td>4185.000000</td>\n",
       "    </tr>\n",
       "    <tr>\n",
       "      <th>mean</th>\n",
       "      <td>2092.000000</td>\n",
       "      <td>2093.000000</td>\n",
       "      <td>15.925687</td>\n",
       "      <td>16.006452</td>\n",
       "      <td>-0.765121</td>\n",
       "      <td>172.376583</td>\n",
       "      <td>25.528076</td>\n",
       "    </tr>\n",
       "    <tr>\n",
       "      <th>std</th>\n",
       "      <td>1208.249767</td>\n",
       "      <td>1208.249767</td>\n",
       "      <td>9.500753</td>\n",
       "      <td>3.190948</td>\n",
       "      <td>2.621643</td>\n",
       "      <td>124.025408</td>\n",
       "      <td>20.193311</td>\n",
       "    </tr>\n",
       "    <tr>\n",
       "      <th>min</th>\n",
       "      <td>0.000000</td>\n",
       "      <td>1.000000</td>\n",
       "      <td>1.000000</td>\n",
       "      <td>7.100000</td>\n",
       "      <td>-10.220000</td>\n",
       "      <td>7.000000</td>\n",
       "      <td>2.000000</td>\n",
       "    </tr>\n",
       "    <tr>\n",
       "      <th>25%</th>\n",
       "      <td>1046.000000</td>\n",
       "      <td>1047.000000</td>\n",
       "      <td>9.000000</td>\n",
       "      <td>13.700000</td>\n",
       "      <td>-3.740000</td>\n",
       "      <td>53.000000</td>\n",
       "      <td>9.000000</td>\n",
       "    </tr>\n",
       "    <tr>\n",
       "      <th>50%</th>\n",
       "      <td>2092.000000</td>\n",
       "      <td>2093.000000</td>\n",
       "      <td>17.000000</td>\n",
       "      <td>15.900000</td>\n",
       "      <td>0.760000</td>\n",
       "      <td>217.000000</td>\n",
       "      <td>22.000000</td>\n",
       "    </tr>\n",
       "    <tr>\n",
       "      <th>75%</th>\n",
       "      <td>3138.000000</td>\n",
       "      <td>3139.000000</td>\n",
       "      <td>25.000000</td>\n",
       "      <td>18.000000</td>\n",
       "      <td>0.960000</td>\n",
       "      <td>274.000000</td>\n",
       "      <td>35.000000</td>\n",
       "    </tr>\n",
       "    <tr>\n",
       "      <th>max</th>\n",
       "      <td>4184.000000</td>\n",
       "      <td>4185.000000</td>\n",
       "      <td>31.000000</td>\n",
       "      <td>25.500000</td>\n",
       "      <td>2.230000</td>\n",
       "      <td>358.000000</td>\n",
       "      <td>72.000000</td>\n",
       "    </tr>\n",
       "  </tbody>\n",
       "</table>\n",
       "</div>"
      ],
      "text/plain": [
       "        Unnamed: 0   Control-id  Control-svid  Control-cn0  Control-agc  \\\n",
       "count  4185.000000  4185.000000   4185.000000  4185.000000  4185.000000   \n",
       "mean   2092.000000  2093.000000     15.925687    16.006452    -0.765121   \n",
       "std    1208.249767  1208.249767      9.500753     3.190948     2.621643   \n",
       "min       0.000000     1.000000      1.000000     7.100000   -10.220000   \n",
       "25%    1046.000000  1047.000000      9.000000    13.700000    -3.740000   \n",
       "50%    2092.000000  2093.000000     17.000000    15.900000     0.760000   \n",
       "75%    3138.000000  3139.000000     25.000000    18.000000     0.960000   \n",
       "max    4184.000000  4185.000000     31.000000    25.500000     2.230000   \n",
       "\n",
       "       Control-azimuth_deg  Control-elevation_deg  \n",
       "count          4185.000000            4185.000000  \n",
       "mean            172.376583              25.528076  \n",
       "std             124.025408              20.193311  \n",
       "min               7.000000               2.000000  \n",
       "25%              53.000000               9.000000  \n",
       "50%             217.000000              22.000000  \n",
       "75%             274.000000              35.000000  \n",
       "max             358.000000              72.000000  "
      ]
     },
     "execution_count": 12,
     "metadata": {},
     "output_type": "execute_result"
    }
   ],
   "source": [
    "dataset.describe()"
   ]
  },
  {
   "cell_type": "code",
   "execution_count": 16,
   "metadata": {},
   "outputs": [
    {
     "data": {
      "text/html": [
       "<div>\n",
       "<style>\n",
       "    .dataframe thead tr:only-child th {\n",
       "        text-align: right;\n",
       "    }\n",
       "\n",
       "    .dataframe thead th {\n",
       "        text-align: left;\n",
       "    }\n",
       "\n",
       "    .dataframe tbody tr th {\n",
       "        vertical-align: top;\n",
       "    }\n",
       "</style>\n",
       "<table border=\"1\" class=\"dataframe\">\n",
       "  <thead>\n",
       "    <tr style=\"text-align: right;\">\n",
       "      <th></th>\n",
       "      <th>Unnamed: 0</th>\n",
       "      <th>Control-id</th>\n",
       "      <th>Control-svid</th>\n",
       "      <th>Control-cn0</th>\n",
       "      <th>Control-agc</th>\n",
       "      <th>Control-azimuth_deg</th>\n",
       "      <th>Control-elevation_deg</th>\n",
       "      <th>Control-constellation</th>\n",
       "    </tr>\n",
       "  </thead>\n",
       "  <tbody>\n",
       "    <tr>\n",
       "      <th>0</th>\n",
       "      <td>0</td>\n",
       "      <td>1</td>\n",
       "      <td>22</td>\n",
       "      <td>25.5</td>\n",
       "      <td>-0.14</td>\n",
       "      <td>248.0</td>\n",
       "      <td>16.0</td>\n",
       "      <td>GPS</td>\n",
       "    </tr>\n",
       "    <tr>\n",
       "      <th>1</th>\n",
       "      <td>1</td>\n",
       "      <td>2</td>\n",
       "      <td>22</td>\n",
       "      <td>25.5</td>\n",
       "      <td>0.46</td>\n",
       "      <td>248.0</td>\n",
       "      <td>16.0</td>\n",
       "      <td>GPS</td>\n",
       "    </tr>\n",
       "    <tr>\n",
       "      <th>2</th>\n",
       "      <td>2</td>\n",
       "      <td>3</td>\n",
       "      <td>22</td>\n",
       "      <td>19.6</td>\n",
       "      <td>1.59</td>\n",
       "      <td>248.0</td>\n",
       "      <td>16.0</td>\n",
       "      <td>GPS</td>\n",
       "    </tr>\n",
       "    <tr>\n",
       "      <th>3</th>\n",
       "      <td>3</td>\n",
       "      <td>4</td>\n",
       "      <td>25</td>\n",
       "      <td>24.1</td>\n",
       "      <td>1.59</td>\n",
       "      <td>54.0</td>\n",
       "      <td>14.0</td>\n",
       "      <td>GPS</td>\n",
       "    </tr>\n",
       "    <tr>\n",
       "      <th>4</th>\n",
       "      <td>4</td>\n",
       "      <td>5</td>\n",
       "      <td>2</td>\n",
       "      <td>17.9</td>\n",
       "      <td>1.24</td>\n",
       "      <td>18.0</td>\n",
       "      <td>4.0</td>\n",
       "      <td>GPS</td>\n",
       "    </tr>\n",
       "  </tbody>\n",
       "</table>\n",
       "</div>"
      ],
      "text/plain": [
       "   Unnamed: 0  Control-id  Control-svid  Control-cn0  Control-agc  \\\n",
       "0           0           1            22         25.5        -0.14   \n",
       "1           1           2            22         25.5         0.46   \n",
       "2           2           3            22         19.6         1.59   \n",
       "3           3           4            25         24.1         1.59   \n",
       "4           4           5             2         17.9         1.24   \n",
       "\n",
       "   Control-azimuth_deg  Control-elevation_deg Control-constellation  \n",
       "0                248.0                   16.0                   GPS  \n",
       "1                248.0                   16.0                   GPS  \n",
       "2                248.0                   16.0                   GPS  \n",
       "3                 54.0                   14.0                   GPS  \n",
       "4                 18.0                    4.0                   GPS  "
      ]
     },
     "execution_count": 16,
     "metadata": {},
     "output_type": "execute_result"
    }
   ],
   "source": [
    "dataset.head()"
   ]
  },
  {
   "cell_type": "code",
   "execution_count": 21,
   "metadata": {},
   "outputs": [
    {
     "data": {
      "text/plain": [
       "[dtype('int64'), dtype('O'), dtype('float64')]"
      ]
     },
     "execution_count": 21,
     "metadata": {},
     "output_type": "execute_result"
    }
   ],
   "source": [
    "# Including only numeric variables\n",
    "list(set(dataset.dtypes.tolist()))"
   ]
  },
  {
   "cell_type": "code",
   "execution_count": 23,
   "metadata": {},
   "outputs": [
    {
     "data": {
      "text/html": [
       "<div>\n",
       "<style>\n",
       "    .dataframe thead tr:only-child th {\n",
       "        text-align: right;\n",
       "    }\n",
       "\n",
       "    .dataframe thead th {\n",
       "        text-align: left;\n",
       "    }\n",
       "\n",
       "    .dataframe tbody tr th {\n",
       "        vertical-align: top;\n",
       "    }\n",
       "</style>\n",
       "<table border=\"1\" class=\"dataframe\">\n",
       "  <thead>\n",
       "    <tr style=\"text-align: right;\">\n",
       "      <th></th>\n",
       "      <th>Unnamed: 0</th>\n",
       "      <th>Control-id</th>\n",
       "      <th>Control-svid</th>\n",
       "      <th>Control-cn0</th>\n",
       "      <th>Control-agc</th>\n",
       "      <th>Control-azimuth_deg</th>\n",
       "      <th>Control-elevation_deg</th>\n",
       "    </tr>\n",
       "  </thead>\n",
       "  <tbody>\n",
       "    <tr>\n",
       "      <th>0</th>\n",
       "      <td>0</td>\n",
       "      <td>1</td>\n",
       "      <td>22</td>\n",
       "      <td>25.5</td>\n",
       "      <td>-0.14</td>\n",
       "      <td>248.0</td>\n",
       "      <td>16.0</td>\n",
       "    </tr>\n",
       "    <tr>\n",
       "      <th>1</th>\n",
       "      <td>1</td>\n",
       "      <td>2</td>\n",
       "      <td>22</td>\n",
       "      <td>25.5</td>\n",
       "      <td>0.46</td>\n",
       "      <td>248.0</td>\n",
       "      <td>16.0</td>\n",
       "    </tr>\n",
       "    <tr>\n",
       "      <th>2</th>\n",
       "      <td>2</td>\n",
       "      <td>3</td>\n",
       "      <td>22</td>\n",
       "      <td>19.6</td>\n",
       "      <td>1.59</td>\n",
       "      <td>248.0</td>\n",
       "      <td>16.0</td>\n",
       "    </tr>\n",
       "    <tr>\n",
       "      <th>3</th>\n",
       "      <td>3</td>\n",
       "      <td>4</td>\n",
       "      <td>25</td>\n",
       "      <td>24.1</td>\n",
       "      <td>1.59</td>\n",
       "      <td>54.0</td>\n",
       "      <td>14.0</td>\n",
       "    </tr>\n",
       "    <tr>\n",
       "      <th>4</th>\n",
       "      <td>4</td>\n",
       "      <td>5</td>\n",
       "      <td>2</td>\n",
       "      <td>17.9</td>\n",
       "      <td>1.24</td>\n",
       "      <td>18.0</td>\n",
       "      <td>4.0</td>\n",
       "    </tr>\n",
       "  </tbody>\n",
       "</table>\n",
       "</div>"
      ],
      "text/plain": [
       "   Unnamed: 0  Control-id  Control-svid  Control-cn0  Control-agc  \\\n",
       "0           0           1            22         25.5        -0.14   \n",
       "1           1           2            22         25.5         0.46   \n",
       "2           2           3            22         19.6         1.59   \n",
       "3           3           4            25         24.1         1.59   \n",
       "4           4           5             2         17.9         1.24   \n",
       "\n",
       "   Control-azimuth_deg  Control-elevation_deg  \n",
       "0                248.0                   16.0  \n",
       "1                248.0                   16.0  \n",
       "2                248.0                   16.0  \n",
       "3                 54.0                   14.0  \n",
       "4                 18.0                    4.0  "
      ]
     },
     "execution_count": 23,
     "metadata": {},
     "output_type": "execute_result"
    }
   ],
   "source": [
    "df_num = dataset.select_dtypes(include = ['float64', 'int64'])\n",
    "df_num.head()"
   ]
  },
  {
   "cell_type": "code",
   "execution_count": 24,
   "metadata": {},
   "outputs": [
    {
     "data": {
      "text/plain": [
       "array([[<matplotlib.axes._subplots.AxesSubplot object at 0x1186d1b70>,\n",
       "        <matplotlib.axes._subplots.AxesSubplot object at 0x1183d8898>,\n",
       "        <matplotlib.axes._subplots.AxesSubplot object at 0x1183b9978>],\n",
       "       [<matplotlib.axes._subplots.AxesSubplot object at 0x114f73320>,\n",
       "        <matplotlib.axes._subplots.AxesSubplot object at 0x11880d940>,\n",
       "        <matplotlib.axes._subplots.AxesSubplot object at 0x11880d978>],\n",
       "       [<matplotlib.axes._subplots.AxesSubplot object at 0x1150564a8>,\n",
       "        <matplotlib.axes._subplots.AxesSubplot object at 0x1183795c0>,\n",
       "        <matplotlib.axes._subplots.AxesSubplot object at 0x118860ef0>]],\n",
       "      dtype=object)"
      ]
     },
     "execution_count": 24,
     "metadata": {},
     "output_type": "execute_result"
    },
    {
     "data": {
      "image/png": "[encoded data removed]",
      "text/plain": [
       "<matplotlib.figure.Figure at 0x1187c8588>"
      ]
     },
     "metadata": {},
     "output_type": "display_data"
    }
   ],
   "source": [
    "df_num.hist(figsize=(16, 20), bins=50, xlabelsize=8, ylabelsize=8)"
   ]
  },
  {
   "cell_type": "code",
   "execution_count": 25,
   "metadata": {},
   "outputs": [
    {
     "name": "stdout",
     "output_type": "stream",
     "text": [
      "                       Unnamed: 0  Control-id  Control-svid  Control-cn0  \\\n",
      "Unnamed: 0               1.000000    1.000000      0.025352    -0.076782   \n",
      "Control-id               1.000000    1.000000      0.025352    -0.076782   \n",
      "Control-svid             0.025352    0.025352      1.000000    -0.027494   \n",
      "Control-cn0             -0.076782   -0.076782     -0.027494     1.000000   \n",
      "Control-agc             -0.044591   -0.044591      0.299337     0.387869   \n",
      "Control-azimuth_deg     -0.023402   -0.023402     -0.298401    -0.112356   \n",
      "Control-elevation_deg    0.018292    0.018292      0.576763    -0.221207   \n",
      "\n",
      "                       Control-agc  Control-azimuth_deg  Control-elevation_deg  \n",
      "Unnamed: 0               -0.044591            -0.023402               0.018292  \n",
      "Control-id               -0.044591            -0.023402               0.018292  \n",
      "Control-svid              0.299337            -0.298401               0.576763  \n",
      "Control-cn0               0.387869            -0.112356              -0.221207  \n",
      "Control-agc               1.000000            -0.002601               0.087888  \n",
      "Control-azimuth_deg      -0.002601             1.000000               0.076916  \n",
      "Control-elevation_deg     0.087888             0.076916               1.000000  \n"
     ]
    }
   ],
   "source": [
    "# Correlation between the numeric variables\n",
    "\n",
    "print(df_num.corr())"
   ]
  },
  {
   "cell_type": "code",
   "execution_count": 46,
   "metadata": {},
   "outputs": [
    {
     "data": {
      "image/png": "[encoded data removed]",
      "text/plain": [
       "<matplotlib.figure.Figure at 0x11b48cfd0>"
      ]
     },
     "metadata": {},
     "output_type": "display_data"
    }
   ],
   "source": [
    "corr = df_num.corr() \n",
    "plt.figure(figsize=(12, 10))\n",
    "\n",
    "sns.heatmap(corr[(corr >= 0.0) | (corr <= -0.0)], \n",
    "            cmap='viridis', vmax=1.0, vmin=-1.0, linewidths=0.1,\n",
    "            annot=True, annot_kws={\"size\": 8}, square=True);"
   ]
  },
  {
   "cell_type": "code",
   "execution_count": 47,
   "metadata": {},
   "outputs": [
    {
     "name": "stdout",
     "output_type": "stream",
     "text": [
      "There is 1 strongly correlated values with Elevation_deg:\n",
      "Control-svid    0.576763\n",
      "Name: Control-elevation_deg, dtype: float64\n"
     ]
    }
   ],
   "source": [
    "df_num_corr = df_num.corr()['Control-elevation_deg'][:-1] # -1 because the latest row is elevation_deg\n",
    "golden_features_list = df_num_corr[abs(df_num_corr) > 0.5].sort_values(ascending=False)\n",
    "print(\"There is {} strongly correlated values with Elevation_deg:\\n{}\".format(len(golden_features_list), golden_features_list))"
   ]
  },
  {
   "cell_type": "code",
   "execution_count": 50,
   "metadata": {},
   "outputs": [
    {
     "data": {
      "text/plain": [
       "(array([0, 1, 2]), <a list of 3 Text xticklabel objects>)"
      ]
     },
     "execution_count": 50,
     "metadata": {},
     "output_type": "execute_result"
    },
    {
     "data": {
      "image/png": "[encoded data removed]",
      "text/plain": [
       "<matplotlib.figure.Figure at 0x1186bb588>"
      ]
     },
     "metadata": {},
     "output_type": "display_data"
    }
   ],
   "source": [
    "plt.figure(figsize = (10, 6))\n",
    "ax = sns.boxplot(x='Control-constellation', y='Control-cn0', data=dataset)\n",
    "plt.setp(ax.artists, alpha=.5, linewidth=2, edgecolor=\"k\")\n",
    "plt.xticks(rotation=45)"
   ]
  },
  {
   "cell_type": "code",
   "execution_count": 51,
   "metadata": {},
   "outputs": [
    {
     "data": {
      "text/plain": [
       "(array([0, 1, 2]), <a list of 3 Text xticklabel objects>)"
      ]
     },
     "execution_count": 51,
     "metadata": {},
     "output_type": "execute_result"
    },
    {
     "data": {
      "image/png": "[encoded data removed]",
      "text/plain": [
       "<matplotlib.figure.Figure at 0x118b31c50>"
      ]
     },
     "metadata": {},
     "output_type": "display_data"
    }
   ],
   "source": [
    "plt.figure(figsize = (10, 6))\n",
    "ax = sns.boxplot(x='Control-constellation', y='Control-agc', data=dataset)\n",
    "plt.setp(ax.artists, alpha=.5, linewidth=2, edgecolor=\"k\")\n",
    "plt.xticks(rotation=45)"
   ]
  },
  {
   "cell_type": "code",
   "execution_count": 52,
   "metadata": {},
   "outputs": [
    {
     "data": {
      "text/plain": [
       "(array([0, 1, 2]), <a list of 3 Text xticklabel objects>)"
      ]
     },
     "execution_count": 52,
     "metadata": {},
     "output_type": "execute_result"
    },
    {
     "data": {
      "image/png": "[encoded data removed]",
      "text/plain": [
       "<matplotlib.figure.Figure at 0x119aa22b0>"
      ]
     },
     "metadata": {},
     "output_type": "display_data"
    }
   ],
   "source": [
    "plt.figure(figsize = (10, 6))\n",
    "ax = sns.boxplot(x='Control-constellation', y='Control-svid', data=dataset)\n",
    "plt.setp(ax.artists, alpha=.5, linewidth=2, edgecolor=\"k\")\n",
    "plt.xticks(rotation=45)"
   ]
  },
  {
   "cell_type": "code",
   "execution_count": 53,
   "metadata": {},
   "outputs": [
    {
     "data": {
      "text/plain": [
       "(array([0, 1, 2]), <a list of 3 Text xticklabel objects>)"
      ]
     },
     "execution_count": 53,
     "metadata": {},
     "output_type": "execute_result"
    },
    {
     "data": {
      "image/png": "[encoded data removed]",
      "text/plain": [
       "<matplotlib.figure.Figure at 0x11b469a20>"
      ]
     },
     "metadata": {},
     "output_type": "display_data"
    }
   ],
   "source": [
    "plt.figure(figsize = (10, 6))\n",
    "ax = sns.boxplot(x='Control-constellation', y='Control-elevation_deg', data=dataset)\n",
    "plt.setp(ax.artists, alpha=.5, linewidth=2, edgecolor=\"k\")\n",
    "plt.xticks(rotation=45)"
   ]
  },
  {
   "cell_type": "code",
   "execution_count": null,
   "metadata": {
    "collapsed": true
   },
   "outputs": [],
   "source": []
  }
 ],
 "metadata": {
  "kernelspec": {
   "display_name": "Python 3",
   "language": "python",
   "name": "python3"
  },
  "language_info": {
   "codemirror_mode": {
    "name": "ipython",
    "version": 3
   },
   "file_extension": ".py",
   "mimetype": "text/x-python",
   "name": "python",
   "nbconvert_exporter": "python",
   "pygments_lexer": "ipython3",
   "version": "3.6.6"
  }
 },
 "nbformat": 4,
 "nbformat_minor": 2
}
